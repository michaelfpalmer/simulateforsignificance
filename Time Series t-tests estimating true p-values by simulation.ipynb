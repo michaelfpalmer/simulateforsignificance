{
 "cells": [
  {
   "cell_type": "markdown",
   "metadata": {},
   "source": [
    "# Motivation\n",
    "There are many times we may want to do multiple comparisons. In my time working in Supply Chain we were often asked to find SKUs that had sharp changes in demand. This was particularly important when SKUs had downward shifts in demand. Since service levels are the inventory analogue to percentiles, and we used years' of sales history, we could be overstocking for a while!"
   ]
  },
  {
   "cell_type": "markdown",
   "metadata": {},
   "source": [
    "# The approach\n",
    "A typical way to check to see if the mean has changed is to use a t-test. This is fine if you are comparing two sets and the distribution is normal-ish (mound shaped).\n"
   ]
  },
  {
   "cell_type": "markdown",
   "metadata": {},
   "source": [
    "### Can we just do a t-test multiple times?\n",
    "Well, that's sort of what we'll do! There are some caveats though. \n",
    "1. The multiple comparisons problem is a big deal. \n",
    "2. These observations aren't independent\n",
    "3. A Bonferroni correction is going to severely limit our statistical power in identifying SKUs with lost sales. Based on 2, our p-values are going to be correlated."
   ]
  },
  {
   "cell_type": "code",
   "execution_count": 2,
   "metadata": {},
   "outputs": [],
   "source": [
    "#generate random sales data, it has lots of 0s, but has some decent spread when it is non-zero.\n",
    "#'https://en.wikipedia.org/wiki/Negative_binomial_distribution#Gamma%E2%80%93Poisson_mixture'\n",
    "#Overdispersed Poisson\n",
    "\n",
    "#imports\n",
    "from scipy.stats import nbinom\n",
    "import numpy as np\n",
    "import matplotlib.pyplot as plt\n",
    "%matplotlib inline\n",
    "import scipy.stats as stats\n",
    "from time import time"
   ]
  },
  {
   "cell_type": "code",
   "execution_count": 8,
   "metadata": {},
   "outputs": [],
   "source": [
    "n=.4\n",
    "p=.2\n",
    "sales = nbinom.rvs(n, p, size=1000)"
   ]
  },
  {
   "cell_type": "code",
   "execution_count": 9,
   "metadata": {},
   "outputs": [
    {
     "data": {
      "text/plain": [
       "(array([797., 130.,  45.,  10.,   7.,   4.,   2.,   3.,   1.,   1.]),\n",
       " array([ 0. ,  2.7,  5.4,  8.1, 10.8, 13.5, 16.2, 18.9, 21.6, 24.3, 27. ]),\n",
       " <a list of 10 Patch objects>)"
      ]
     },
     "execution_count": 9,
     "metadata": {},
     "output_type": "execute_result"
    },
    {
     "data": {
      "image/png": "[encoded data removed]",
      "text/plain": [
       "<Figure size 432x288 with 1 Axes>"
      ]
     },
     "metadata": {
      "needs_background": "light"
     },
     "output_type": "display_data"
    }
   ],
   "source": [
    "plt.hist(sales)"
   ]
  },
  {
   "cell_type": "markdown",
   "metadata": {},
   "source": [
    "# Base case"
   ]
  },
  {
   "cell_type": "markdown",
   "metadata": {},
   "source": [
    "## For a specific Item - Loc get 26 weeks of sales history"
   ]
  },
  {
   "cell_type": "code",
   "execution_count": 34,
   "metadata": {},
   "outputs": [],
   "source": [
    "sales = nbinom.rvs(n, p, size=26)"
   ]
  },
  {
   "cell_type": "code",
   "execution_count": 35,
   "metadata": {},
   "outputs": [
    {
     "data": {
      "text/plain": [
       "array([2, 0, 0, 0, 0, 4, 0, 0, 3, 0, 4, 4, 4, 3, 0, 0, 0, 0, 0, 0, 0, 0,\n",
       "       3, 1, 0, 3])"
      ]
     },
     "execution_count": 35,
     "metadata": {},
     "output_type": "execute_result"
    }
   ],
   "source": [
    "sales"
   ]
  },
  {
   "cell_type": "markdown",
   "metadata": {},
   "source": [
    "## do a 13 week over 13 week comparison"
   ]
  },
  {
   "cell_type": "code",
   "execution_count": 72,
   "metadata": {},
   "outputs": [
    {
     "name": "stdout",
     "output_type": "stream",
     "text": [
      "we have a p-value of: 0.05366034071650955\n"
     ]
    }
   ],
   "source": [
    "rvs1 = sales[:13]\n",
    "rvs2 = sales[13:]\n",
    "print('we have a p-value of: ' + str(stats.ttest_ind(rvs1,rvs2).pvalue))"
   ]
  },
  {
   "cell_type": "code",
   "execution_count": 42,
   "metadata": {},
   "outputs": [
    {
     "data": {
      "text/plain": [
       "'0.19684796677095295'"
      ]
     },
     "execution_count": 42,
     "metadata": {},
     "output_type": "execute_result"
    }
   ],
   "source": [
    "str(stats.ttest_ind(rvs1,rvs2).pvalue)"
   ]
  },
  {
   "cell_type": "markdown",
   "metadata": {},
   "source": [
    "# Now let's simulate this a few thousand times. We should expect our p-value to be $\\leq.05$ around $5\\%$ of the time"
   ]
  },
  {
   "cell_type": "code",
   "execution_count": 63,
   "metadata": {},
   "outputs": [],
   "source": [
    "p_values = []\n",
    "for x in range(10000):\n",
    "    rvs1 = nbinom.rvs(n, p, size=13)\n",
    "    rvs2 = nbinom.rvs(n, p, size=13)\n",
    "    p_values.append(stats.ttest_ind(rvs1,rvs2).pvalue)\n",
    "    "
   ]
  },
  {
   "cell_type": "markdown",
   "metadata": {},
   "source": [
    "## A histogram of our distribution of p-values. Looks Uniform, great!"
   ]
  },
  {
   "cell_type": "code",
   "execution_count": 67,
   "metadata": {},
   "outputs": [
    {
     "data": {
      "text/plain": [
       "(array([ 995., 1019.,  966.,  981.,  983., 1052., 1017., 1042.,  964.,\n",
       "         981.]),\n",
       " array([2.10121370e-05, 1.00016862e-01, 2.00012712e-01, 3.00008562e-01,\n",
       "        4.00004412e-01, 5.00000262e-01, 5.99996112e-01, 6.99991962e-01,\n",
       "        7.99987812e-01, 8.99983662e-01, 9.99979512e-01]),\n",
       " <a list of 10 Patch objects>)"
      ]
     },
     "execution_count": 67,
     "metadata": {},
     "output_type": "execute_result"
    },
    {
     "data": {
      "image/png": "[encoded data removed]",
      "text/plain": [
       "<Figure size 432x288 with 1 Axes>"
      ]
     },
     "metadata": {
      "needs_background": "light"
     },
     "output_type": "display_data"
    }
   ],
   "source": [
    "plt.hist(p_values)"
   ]
  },
  {
   "cell_type": "code",
   "execution_count": 68,
   "metadata": {},
   "outputs": [
    {
     "data": {
      "text/plain": [
       "0.0479"
      ]
     },
     "execution_count": 68,
     "metadata": {},
     "output_type": "execute_result"
    }
   ],
   "source": [
    "np.mean(np.array(p_values)<.05)"
   ]
  },
  {
   "cell_type": "markdown",
   "metadata": {},
   "source": [
    "## If we run this a few more times, we see this is actually around 4% instead of 5%. I'd conjecture it's because a t-test works best with the normal distribution and our data is not normally distributed. Let's validate this with a standard normal..."
   ]
  },
  {
   "cell_type": "code",
   "execution_count": 71,
   "metadata": {},
   "outputs": [
    {
     "data": {
      "text/plain": [
       "0.0517"
      ]
     },
     "execution_count": 71,
     "metadata": {},
     "output_type": "execute_result"
    },
    {
     "data": {
      "image/png": "[encoded data removed]",
      "text/plain": [
       "<Figure size 432x288 with 1 Axes>"
      ]
     },
     "metadata": {
      "needs_background": "light"
     },
     "output_type": "display_data"
    }
   ],
   "source": [
    "p_values = []\n",
    "for x in range(10000):\n",
    "    rvs1 = stats.norm.rvs(0, 1, size=13)\n",
    "    rvs2 = stats.norm.rvs(0, 1, size=13)\n",
    "    p_values.append(stats.ttest_ind(rvs1,rvs2).pvalue)\n",
    "plt.hist(p_values)\n",
    "np.mean(np.array(p_values)<.05)"
   ]
  },
  {
   "cell_type": "markdown",
   "metadata": {},
   "source": [
    "# Get rolling sales history for 27 weeks now doing 2 comparisons. The first 13 weeks vs. 2nd 13 weeks. And weeks 2-14 vs. weeks 15-27."
   ]
  },
  {
   "cell_type": "code",
   "execution_count": 210,
   "metadata": {},
   "outputs": [],
   "source": [
    "#first 13 week over 13 week comparison\n",
    "first_comparison_pvals = []\n",
    "second_comparison_pvals = []\n",
    "for x in range(10000):\n",
    "    sales = stats.nbinom.rvs(n, p, size=27)\n",
    "    c1rvs1 = sales[:13]\n",
    "    c1rvs2 = sales[13:26]\n",
    "    c1p = stats.ttest_ind(c1rvs1,c1rvs2).pvalue\n",
    "    first_comparison_pvals.append(c1p)\n",
    "\n",
    "    c2rvs1 = sales[1:14]\n",
    "    c2rvs2 = sales[14:27]\n",
    "    c2p = stats.ttest_ind(c2rvs1,c2rvs2).pvalue\n",
    "    second_comparison_pvals.append(c2p)\n",
    "    "
   ]
  },
  {
   "cell_type": "code",
   "execution_count": 211,
   "metadata": {},
   "outputs": [
    {
     "data": {
      "text/plain": [
       "(362, 356)"
      ]
     },
     "execution_count": 211,
     "metadata": {},
     "output_type": "execute_result"
    }
   ],
   "source": [
    "(np.array(first_comparison_pvals)<.05).sum(), (np.array(second_comparison_pvals)<.05).sum()"
   ]
  },
  {
   "cell_type": "code",
   "execution_count": 212,
   "metadata": {},
   "outputs": [
    {
     "data": {
      "text/plain": [
       "527"
      ]
     },
     "execution_count": 212,
     "metadata": {},
     "output_type": "execute_result"
    }
   ],
   "source": [
    "((np.array(first_comparison_pvals)<.05)|(np.array(second_comparison_pvals)<.05)).sum()"
   ]
  },
  {
   "cell_type": "code",
   "execution_count": 213,
   "metadata": {},
   "outputs": [
    {
     "data": {
      "text/plain": [
       "0.0527"
      ]
     },
     "execution_count": 213,
     "metadata": {},
     "output_type": "execute_result"
    },
    {
     "data": {
      "image/png": "[encoded data removed]",
      "text/plain": [
       "<Figure size 432x288 with 1 Axes>"
      ]
     },
     "metadata": {
      "needs_background": "light"
     },
     "output_type": "display_data"
    }
   ],
   "source": [
    "minp = np.minimum(np.array(first_comparison_pvals), np.array(second_comparison_pvals))\n",
    "plt.hist(minp)\n",
    "np.mean(np.array(minp)<.05)"
   ]
  },
  {
   "cell_type": "markdown",
   "metadata": {},
   "source": [
    "## Notice the chart looks different now.\n",
    " 1. Our min-p value distribution is no longer flat. We don't want this. \n",
    " 2. Also, this p-value is a function of several variables now. We don't want to engineer our pooled p-value. We want instead to specify a pooled p-value, and find the right threshold for component p-values. We can use a quantile function to do this."
   ]
  },
  {
   "cell_type": "markdown",
   "metadata": {},
   "source": [
    " Let's suppose we want a p-value of .05. Now let's simulate it.\n",
    " To do this we find the 5th percentile of our min of comparisons, minp\n"
   ]
  },
  {
   "cell_type": "code",
   "execution_count": 214,
   "metadata": {},
   "outputs": [],
   "source": [
    "significance_threshold = np.percentile(minp,5)"
   ]
  },
  {
   "cell_type": "code",
   "execution_count": 215,
   "metadata": {},
   "outputs": [
    {
     "data": {
      "text/plain": [
       "0.04793628260829048"
      ]
     },
     "execution_count": 215,
     "metadata": {},
     "output_type": "execute_result"
    }
   ],
   "source": [
    "significance_threshold"
   ]
  },
  {
   "cell_type": "markdown",
   "metadata": {},
   "source": [
    "Our significance threshold is now about 4.8% a much more powerful threshold than using a signifiance threshold of 2.5% if we had a Bonferroni correction."
   ]
  },
  {
   "cell_type": "markdown",
   "metadata": {},
   "source": [
    "# Let's generalize this. Let's do a 52 week period, with 27 comparisons of 13 week periods. \n",
    "* First comparison is weeks 1-13 vs. 14-26. \n",
    "* Second comparison is weeks 2-14 vs. 15-27, \n",
    "* ...27th comparison is weeks 27-39 vs. weeks 40-52."
   ]
  },
  {
   "cell_type": "code",
   "execution_count": null,
   "metadata": {},
   "outputs": [],
   "source": []
  },
  {
   "cell_type": "code",
   "execution_count": 160,
   "metadata": {},
   "outputs": [
    {
     "name": "stdout",
     "output_type": "stream",
     "text": [
      "95.41601204872131\n"
     ]
    }
   ],
   "source": [
    "#first 13 week over 13 week comparison\n",
    "start=time()\n",
    "n = .4\n",
    "p = .4\n",
    "t1=time\n",
    "pvals = np.zeros((10000,27))\n",
    "exceptions = []\n",
    "for x in range(10000):\n",
    "    sales = stats.nbinom.rvs(n, p, size=52)\n",
    "    for i in range(27):\n",
    "        rvs1 = sales[i:i+13]\n",
    "        rvs2 = sales[i+13:i+26]\n",
    "        pval = stats.ttest_ind(rvs1,rvs2,nan_policy='raise').pvalue\n",
    "        if np.isnan(pval):\n",
    "            exceptions.append([rvs1,rvs2])\n",
    "        pvals[x][i] = pval \n",
    "end=time()\n",
    "print(end - start)"
   ]
  },
  {
   "cell_type": "code",
   "execution_count": 161,
   "metadata": {},
   "outputs": [
    {
     "name": "stderr",
     "output_type": "stream",
     "text": [
      "/Users/michaelpalmer/anaconda/lib/python3.5/site-packages/ipykernel_launcher.py:1: RuntimeWarning: invalid value encountered in greater\n",
      "  \"\"\"Entry point for launching an IPython kernel.\n"
     ]
    },
    {
     "data": {
      "text/plain": [
       "0.06403304514113103"
      ]
     },
     "execution_count": 161,
     "metadata": {},
     "output_type": "execute_result"
    }
   ],
   "source": [
    "np.percentile(pvals[pvals>0],5)"
   ]
  },
  {
   "cell_type": "markdown",
   "metadata": {},
   "source": [
    "We find there are actually some instances where our t-test value is null. We've saved off all these occurences. Let's see what's happening."
   ]
  },
  {
   "cell_type": "code",
   "execution_count": 130,
   "metadata": {},
   "outputs": [
    {
     "data": {
      "text/plain": [
       "[[array([0, 0, 0, 0, 0, 0, 0, 0, 0, 0, 0, 0, 0]),\n",
       "  array([0, 0, 0, 0, 0, 0, 0, 0, 0, 0, 0, 0, 0])],\n",
       " [array([0, 0, 0, 0, 0, 0, 0, 0, 0, 0, 0, 0, 0]),\n",
       "  array([0, 0, 0, 0, 0, 0, 0, 0, 0, 0, 0, 0, 0])],\n",
       " [array([0, 0, 0, 0, 0, 0, 0, 0, 0, 0, 0, 0, 0]),\n",
       "  array([0, 0, 0, 0, 0, 0, 0, 0, 0, 0, 0, 0, 0])],\n",
       " [array([0, 0, 0, 0, 0, 0, 0, 0, 0, 0, 0, 0, 0]),\n",
       "  array([0, 0, 0, 0, 0, 0, 0, 0, 0, 0, 0, 0, 0])],\n",
       " [array([0, 0, 0, 0, 0, 0, 0, 0, 0, 0, 0, 0, 0]),\n",
       "  array([0, 0, 0, 0, 0, 0, 0, 0, 0, 0, 0, 0, 0])],\n",
       " [array([0, 0, 0, 0, 0, 0, 0, 0, 0, 0, 0, 0, 0]),\n",
       "  array([0, 0, 0, 0, 0, 0, 0, 0, 0, 0, 0, 0, 0])],\n",
       " [array([0, 0, 0, 0, 0, 0, 0, 0, 0, 0, 0, 0, 0]),\n",
       "  array([0, 0, 0, 0, 0, 0, 0, 0, 0, 0, 0, 0, 0])],\n",
       " [array([0, 0, 0, 0, 0, 0, 0, 0, 0, 0, 0, 0, 0]),\n",
       "  array([0, 0, 0, 0, 0, 0, 0, 0, 0, 0, 0, 0, 0])],\n",
       " [array([0, 0, 0, 0, 0, 0, 0, 0, 0, 0, 0, 0, 0]),\n",
       "  array([0, 0, 0, 0, 0, 0, 0, 0, 0, 0, 0, 0, 0])],\n",
       " [array([0, 0, 0, 0, 0, 0, 0, 0, 0, 0, 0, 0, 0]),\n",
       "  array([0, 0, 0, 0, 0, 0, 0, 0, 0, 0, 0, 0, 0])],\n",
       " [array([0, 0, 0, 0, 0, 0, 0, 0, 0, 0, 0, 0, 0]),\n",
       "  array([0, 0, 0, 0, 0, 0, 0, 0, 0, 0, 0, 0, 0])]]"
      ]
     },
     "execution_count": 130,
     "metadata": {},
     "output_type": "execute_result"
    }
   ],
   "source": [
    "exceptions"
   ]
  },
  {
   "cell_type": "markdown",
   "metadata": {},
   "source": [
    " OK, so our exceptions occur when sales are straight zeros. How do we interpret this in a business context. Well, we might first say, \"hey the mean didn't change!\". But we also might be concerned that we're getting zero sales! This would be cause for alarm."
   ]
  },
  {
   "cell_type": "code",
   "execution_count": 126,
   "metadata": {},
   "outputs": [
    {
     "data": {
      "text/plain": [
       "0.0"
      ]
     },
     "execution_count": 126,
     "metadata": {},
     "output_type": "execute_result"
    }
   ],
   "source": [
    "stats.ttest_ind(x1,x2,nan_policy='omit').pvalue"
   ]
  },
  {
   "cell_type": "markdown",
   "metadata": {},
   "source": [
    "We might consider being done here, but we also need to consider the cases where we could get nan on a t-test another way. If the dataset is identical across all 26 observations, then the pooled variance in the t-test is 0. Therefore the denominator goes to 0. "
   ]
  },
  {
   "cell_type": "code",
   "execution_count": 137,
   "metadata": {},
   "outputs": [
    {
     "data": {
      "text/plain": [
       "nan"
      ]
     },
     "execution_count": 137,
     "metadata": {},
     "output_type": "execute_result"
    }
   ],
   "source": [
    "stats.ttest_ind(np.ones(13),np.ones(13)).pvalue"
   ]
  },
  {
   "cell_type": "markdown",
   "metadata": {},
   "source": [
    "So, what we can recommend is creating some business logic here. It's bad if our sales are below what we'd expect. We should just try and catch this on the first 13 weeks first! Is our first 13 weeks statistically off from our forecast? Let's clean up the code one more time."
   ]
  },
  {
   "cell_type": "code",
   "execution_count": null,
   "metadata": {},
   "outputs": [],
   "source": [
    "# if we choose to go with a distribution that has multiple parameters, we'll need both of these."
   ]
  },
  {
   "cell_type": "code",
   "execution_count": null,
   "metadata": {},
   "outputs": [],
   "source": [
    "# Now let's try to find how well this works in terms of statistical power.\n",
    "# We have engineered our alpha to be .05, for a false positive rate of .05.\n",
    "# Let's find our false negative rate for various distributions.\n"
   ]
  },
  {
   "cell_type": "code",
   "execution_count": 165,
   "metadata": {},
   "outputs": [],
   "source": [
    "# Comparison on exact 13 week period\n",
    "n1 = .4\n",
    "p1 = .4\n",
    "n2 = 1.2\n",
    "p2 = .4\n",
    "pvals = np.zeros(10000)\n",
    "exceptions = []\n",
    "for i in range(10000):\n",
    "    rvs1 = stats.nbinom.rvs(n1, p1, size=13)\n",
    "    rvs2 = stats.nbinom.rvs(n2, p2, size=13)\n",
    "    pval = stats.ttest_ind(rvs1,rvs2,nan_policy='raise').pvalue\n",
    "    if np.isnan(pval):\n",
    "        exceptions.append([rvs1,rvs2])\n",
    "    pvals[i] = pval "
   ]
  },
  {
   "cell_type": "code",
   "execution_count": 166,
   "metadata": {},
   "outputs": [],
   "source": [
    "TPrate = (pvals < .064).sum()"
   ]
  },
  {
   "cell_type": "code",
   "execution_count": 167,
   "metadata": {},
   "outputs": [
    {
     "data": {
      "text/plain": [
       "4875"
      ]
     },
     "execution_count": 167,
     "metadata": {},
     "output_type": "execute_result"
    }
   ],
   "source": [
    "TPrate"
   ]
  },
  {
   "cell_type": "code",
   "execution_count": 150,
   "metadata": {},
   "outputs": [
    {
     "data": {
      "text/plain": [
       "array([0.06337225, 0.64296646, 0.12870298, ..., 0.90118002, 0.88489111,\n",
       "       0.61588058])"
      ]
     },
     "execution_count": 150,
     "metadata": {},
     "output_type": "execute_result"
    }
   ],
   "source": [
    "pvals"
   ]
  },
  {
   "cell_type": "code",
   "execution_count": 151,
   "metadata": {},
   "outputs": [
    {
     "data": {
      "text/plain": [
       "array([0.06337225, 0.64296646, 0.12870298, ..., 0.90118002, 0.88489111,\n",
       "       0.61588058])"
      ]
     },
     "execution_count": 151,
     "metadata": {},
     "output_type": "execute_result"
    }
   ],
   "source": []
  },
  {
   "cell_type": "code",
   "execution_count": null,
   "metadata": {},
   "outputs": [],
   "source": []
  }
 ],
 "metadata": {
  "kernelspec": {
   "display_name": "Python 3",
   "language": "python",
   "name": "python3"
  },
  "language_info": {
   "codemirror_mode": {
    "name": "ipython",
    "version": 3
   },
   "file_extension": ".py",
   "mimetype": "text/x-python",
   "name": "python",
   "nbconvert_exporter": "python",
   "pygments_lexer": "ipython3",
   "version": "3.5.5"
  }
 },
 "nbformat": 4,
 "nbformat_minor": 2
}
